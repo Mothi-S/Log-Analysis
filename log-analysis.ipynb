{
 "cells": [
  {
   "cell_type": "markdown",
   "id": "5a3cc764-7790-4fdc-9987-a59d79bcca7f",
   "metadata": {},
   "source": [
    "# Log Analysis \n"
   ]
  },
  {
   "cell_type": "markdown",
   "id": "f5fb06ec-632f-451c-8fb9-734b25a95242",
   "metadata": {},
   "source": [
    "## Import Necessary Libraries"
   ]
  },
  {
   "cell_type": "code",
   "execution_count": 30,
   "id": "127fcca6-8dce-43c3-966e-2d88384b221f",
   "metadata": {},
   "outputs": [],
   "source": [
    "import re\n",
    "from collections import defaultdict, Counter\n",
    "import pandas as pd\n"
   ]
  },
  {
   "cell_type": "markdown",
   "id": "4a67c167-1ebf-47d8-b4e0-021d5a183916",
   "metadata": {},
   "source": [
    "## Load the Log File"
   ]
  },
  {
   "cell_type": "code",
   "execution_count": 31,
   "id": "5f7e02b7-a8d6-442d-a7ce-6a19483cb618",
   "metadata": {},
   "outputs": [],
   "source": [
    "log_file_path = \"sample.log\"\n",
    "\n",
    "with open(log_file_path, 'r') as file:\n",
    "    logs = file.readlines()\n"
   ]
  },
  {
   "cell_type": "markdown",
   "id": "97ae7c4c-fded-43d8-bddc-c9570f0d2a5d",
   "metadata": {},
   "source": [
    "## Step 1: Count Requests per IP Address"
   ]
  },
  {
   "cell_type": "code",
   "execution_count": 32,
   "id": "9be018ab-a0b7-40f6-a9b2-d4718e80685d",
   "metadata": {},
   "outputs": [
    {
     "name": "stdout",
     "output_type": "stream",
     "text": [
      "IP Address           Request Count\n",
      "203.0.113.5         8\n",
      "198.51.100.23       8\n",
      "192.168.1.1         7\n",
      "10.0.0.2            6\n",
      "192.168.1.100       5\n"
     ]
    }
   ],
   "source": [
    "ip_counts = Counter()\n",
    "\n",
    "for line in logs:\n",
    "    match = re.search(r'(\\d+\\.\\d+\\.\\d+\\.\\d+)', line)\n",
    "    if match:\n",
    "        ip = match.group(1)\n",
    "        ip_counts[ip] += 1\n",
    "\n",
    "# Display results\n",
    "sorted_ip_counts = sorted(ip_counts.items(), key=lambda x: x[1], reverse=True)\n",
    "print(\"IP Address           Request Count\")\n",
    "for ip, count in sorted_ip_counts:\n",
    "    print(f\"{ip:<20}{count}\")\n"
   ]
  },
  {
   "cell_type": "markdown",
   "id": "67d81b99-54a2-4441-96a8-44b72ca7f0de",
   "metadata": {},
   "source": [
    "## Step 2: Identify the Most Frequently Accessed Endpoint"
   ]
  },
  {
   "cell_type": "code",
   "execution_count": 33,
   "id": "47b7b571-140d-40bc-937b-bea37671c18a",
   "metadata": {},
   "outputs": [
    {
     "name": "stdout",
     "output_type": "stream",
     "text": [
      "Most Frequently Accessed Endpoint: /login (Accessed 13 times)\n"
     ]
    }
   ],
   "source": [
    "endpoint_counts = Counter()\n",
    "\n",
    "for line in logs:\n",
    "    match = re.search(r'\\\"[A-Z]+\\s+(\\S+)', line)\n",
    "    if match:\n",
    "        endpoint = match.group(1)\n",
    "        endpoint_counts[endpoint] += 1\n",
    "\n",
    "most_accessed = endpoint_counts.most_common(1)[0]\n",
    "print(f\"Most Frequently Accessed Endpoint: {most_accessed[0]} (Accessed {most_accessed[1]} times)\")\n"
   ]
  },
  {
   "cell_type": "markdown",
   "id": "2a189f18-b55e-4eef-a48d-6c3cd30fe621",
   "metadata": {},
   "source": [
    "## Step 3: Detect Suspicious Activity"
   ]
  },
  {
   "cell_type": "code",
   "execution_count": 34,
   "id": "5a77044b-d4c5-4452-9742-7bc8dabe98c3",
   "metadata": {},
   "outputs": [
    {
     "name": "stdout",
     "output_type": "stream",
     "text": [
      "Suspicious Activity Detected:\n",
      "IP Address           Failed Login Attempts\n"
     ]
    }
   ],
   "source": [
    "failed_attempts = Counter()\n",
    "\n",
    "for line in logs: \n",
    "    if \"401\" in line or \"Invalid credentials\" in line: \n",
    "        match = re.search(r'(\\d+\\.\\d+\\.\\d+\\.\\d+)', line) \n",
    "        if match: \n",
    "            ip = match.group(1) \n",
    "            failed_attempts[ip] += 1\n",
    "\n",
    "# Filter IPs with failed attempts exceeding a threshold\n",
    "threshold = 10\n",
    "suspicious_ips = {ip: count for ip, count in failed_attempts.items() if count > threshold}\n",
    "\n",
    "print(\"Suspicious Activity Detected:\")\n",
    "print(\"IP Address           Failed Login Attempts\")\n",
    "for ip, count in suspicious_ips.items(): \n",
    "    print(f\"{ip:<20}{count}\")\n"
   ]
  },
  {
   "cell_type": "markdown",
   "id": "419b2743-b90d-4d35-8163-3287d7ca5c68",
   "metadata": {},
   "source": [
    "## Step 4: Save Results to CSV"
   ]
  },
  {
   "cell_type": "code",
   "execution_count": 37,
   "id": "8da1f85f-c9f7-4078-b24d-35f9ded960c8",
   "metadata": {},
   "outputs": [
    {
     "name": "stdout",
     "output_type": "stream",
     "text": [
      "Results saved to log_analysis_results.csv\n"
     ]
    }
   ],
   "source": [
    "# Create DataFrames\n",
    "ip_df = pd.DataFrame(sorted_ip_counts, columns=[\"IP Address\", \"Request Count\"])\n",
    "endpoint_df = pd.DataFrame([most_accessed], columns=[\"Endpoint\", \"Access Count\"])\n",
    "suspicious_df = pd.DataFrame(suspicious_ips.items(), columns=[\"IP Address\", \"Failed Login Count\"])\n",
    "\n",
    "# Concatenate all DataFrames into one\n",
    "combined_df = pd.concat([ip_df, endpoint_df, suspicious_df], axis=1)\n",
    "\n",
    "# Save the combined DataFrame to a CSV file\n",
    "output_file = \"log_analysis_results.csv\"\n",
    "combined_df.to_csv(output_file, index=False)\n",
    "\n",
    "print(f\"Results saved to {output_file}\")\n",
    "\n"
   ]
  },
  {
   "cell_type": "code",
   "execution_count": null,
   "id": "4722f423-19f9-4965-ad07-4226b3e029d7",
   "metadata": {},
   "outputs": [],
   "source": []
  }
 ],
 "metadata": {
  "kernelspec": {
   "display_name": "Python 3 (ipykernel)",
   "language": "python",
   "name": "python3"
  },
  "language_info": {
   "codemirror_mode": {
    "name": "ipython",
    "version": 3
   },
   "file_extension": ".py",
   "mimetype": "text/x-python",
   "name": "python",
   "nbconvert_exporter": "python",
   "pygments_lexer": "ipython3",
   "version": "3.12.7"
  }
 },
 "nbformat": 4,
 "nbformat_minor": 5
}
